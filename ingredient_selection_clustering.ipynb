{
 "cells": [
  {
   "cell_type": "code",
   "execution_count": 19,
   "metadata": {
    "collapsed": true
   },
   "outputs": [],
   "source": [
    "import numpy as np\n",
    "import pandas as pd\n",
    "import sqlite3 as sl3"
   ]
  },
  {
   "cell_type": "markdown",
   "metadata": {},
   "source": [
    "#Load Data From Database"
   ]
  },
  {
   "cell_type": "code",
   "execution_count": 3,
   "metadata": {
    "collapsed": true
   },
   "outputs": [],
   "source": [
    "dbfile = \"recipes.db\"\n",
    "conn = sl3.connect(dbfile)\n",
    "cur = conn.cursor()"
   ]
  },
  {
   "cell_type": "code",
   "execution_count": 4,
   "metadata": {
    "collapsed": false
   },
   "outputs": [
    {
     "name": "stdout",
     "output_type": "stream",
     "text": [
      "recipes CREATE TABLE recipes(\n",
      "\t\trecipe_id INTEGER, \n",
      "\t\tsearch_query TEXT,\n",
      "\t\turl TEXT,\n",
      "\t\twebsite TEXT,\n",
      "\t\ttimestamp TEXT,\n",
      "\t\taverage_rating REAL,\n",
      "\t\tnumber_ratings INTEGER,\n",
      "\t\tyield_quantity REAL,\n",
      "\t\tyield_units TEXT,\n",
      "\t\tyield_type TEXT,\n",
      "\t\tPRIMARY KEY (recipe_id,url)\n",
      "\t\t)\n",
      "ingredients CREATE TABLE ingredients(\n",
      "\t\trecipe_id INTEGER,\n",
      "                ingredient_id INTEGER,\n",
      "\t\tdescription TEXT,\n",
      "\t\tamount REAL\n",
      "\t\t)\n",
      "new_ingredients CREATE TABLE \"new_ingredients\" (\n",
      "\"index\" INTEGER,\n",
      "  \"recipe_id\" REAL,\n",
      "  \"description\" TEXT,\n",
      "  \"amount\" REAL,\n",
      "  \"new_description\" TEXT,\n",
      "  \"proportion\" REAL\n",
      ")\n",
      "base_ingredients CREATE TABLE \"base_ingredients\" (\n",
      "\"index\" INTEGER,\n",
      "  \"new_description\" TEXT,\n",
      "  \"mean_proportion\" REAL,\n",
      "  \"stddev_proportion\" REAL,\n",
      "  \"counts\" INTEGER\n",
      ")\n"
     ]
    }
   ],
   "source": [
    "# Take a peek at the existing tables\n",
    "cur.execute(\"SELECT name, sql FROM sqlite_master WHERE type='table'\")\n",
    "for table, sql in cur.fetchall():\n",
    "    print table, sql"
   ]
  },
  {
   "cell_type": "code",
   "execution_count": 5,
   "metadata": {
    "collapsed": false
   },
   "outputs": [
    {
     "name": "stdout",
     "output_type": "stream",
     "text": [
      "129 entries\n",
      "129 distinct ingredients\n",
      "        new_description  mean_proportion  stddev_proportion  counts\n",
      "55               garlic         0.010577           0.007612      82\n",
      "54       garbonzo beans         0.598739           0.186017      76\n",
      "81            olive oil         0.043827           0.046208      69\n",
      "67          lemon juice         0.076270           0.056109      67\n",
      "102                salt         0.004098           0.003616      58\n",
      "113              tahini         0.082664           0.065108      49\n",
      "42                cumin         0.003360           0.003073      37\n",
      "16         black pepper         0.001551           0.002348      28\n",
      "122               water         0.138366           0.181471      22\n",
      "87              paprika         0.001801           0.001171      17\n",
      "25       cayenne pepper         0.002782           0.003351      16\n",
      "11                basil         0.014749           0.022653      15\n",
      "83                onion         0.097915           0.080114      15\n",
      "14          bell pepper         0.134821           0.057082      14\n",
      "63               hummus         0.262676           0.176444      13\n",
      "89              parsley         0.012630           0.015344      13\n",
      "64             jalapeno         0.045829           0.045091      12\n",
      "31             cilantro         0.044478           0.043584       8\n",
      "86              oregano         0.002555           0.002817       8\n",
      "15          black beans         0.577916           0.323159       8\n",
      "50          feta cheese         0.091701           0.064161       7\n",
      "117              tomato         0.195414           0.104302       7\n",
      "106        sesame seeds         0.019008           0.014925       6\n",
      "17                bread         0.232485           0.126357       6\n",
      "100            rosemary         0.001930           0.001358       5\n",
      "95              pumpkin         0.264281           0.164485       4\n",
      "127              yogurt         0.156972           0.094991       4\n",
      "69           lemon zest         0.001037           0.001056       4\n",
      "71           lime juice         0.095654           0.029473       4\n",
      "41             cucumber         0.152315           0.151712       4\n",
      "0      Italian dressing         0.100105           0.082766       4\n",
      "105     sesame seed oil         0.021341           0.032329       4\n",
      "110  sun-dried tomatoes         0.030242           0.015095       4\n",
      "70              lettuce         0.062155           0.031418       3\n",
      "62            hot sauce         0.038737           0.060442       3\n",
      "82               olives         0.155890           0.155847       3\n",
      "9      balsamic vinegar         0.026339           0.026988       3\n",
      "6               avocado         0.189037           0.039988       3\n",
      "4      artichoke hearts         0.256446           0.051010       3\n",
      "36            coriander         0.001057           0.001122       3\n",
      "90        peanut butter         0.051621           0.021209       3\n",
      "112        sweet potato         0.641502           0.095790       3\n",
      "107           soy sauce         0.047599           0.060951       3\n",
      "44         curry powder         0.004939           0.002187       3\n",
      "39         cream cheese         0.160149           0.072990       2\n",
      "109             spinach         0.132488           0.078928       2\n",
      "68         lemon pepper         0.001357           0.000733       2\n",
      "111   sweet chili sauce         0.066047           0.005800       2\n",
      "32             cinnamon         0.002290           0.001805       2\n",
      "128            zucchini         0.562187           0.260808       2\n",
      "108            soybeans         0.252425           0.315886       2\n",
      "124        white pepper         0.000491           0.000000       2\n",
      "123         white beans         0.540196           0.000000       2\n",
      "58          ground beef         0.198088           0.086731       2\n",
      "28       chicken breast         0.191252           0.146294       2\n",
      "56               ginger         0.003973           0.003719       2\n",
      "116                tofu         0.161739           0.007629       2\n",
      "53                flour         0.155698           0.120412       2\n",
      "40   crushed red pepper         0.001716           0.001370       2\n",
      "72    manzanilla olives         0.095073           0.015685       2\n",
      "                    ...              ...                ...     ...\n",
      "\n",
      "[129 rows x 4 columns]\n"
     ]
    }
   ],
   "source": [
    "# Read in 'ingredients' table\n",
    "query = \"SELECT new_description, mean_proportion, stddev_proportion, counts FROM base_ingredients\"\n",
    "ingr_df = pd.read_sql(query, conn)\n",
    "\n",
    "# Take a look at the data:\n",
    "print len(ingr_df), 'entries'\n",
    "print len(ingr_df.new_description.unique()), 'distinct ingredients'\n",
    "print ingr_df.sort(['counts'],ascending=[0])"
   ]
  },
  {
   "cell_type": "markdown",
   "metadata": {},
   "source": [
    "# Plot The Data\n",
    "\n",
    "The goal here is to look at a few features of the data to see if we can find good criteria for distinguishing ingredients into different groups. Specifically, I'm looking at the mean & standard deviation of the proportion of each ingredient in it's respective recipe and the number of occurances of each ingredient within our recipe set."
   ]
  },
  {
   "cell_type": "code",
   "execution_count": null,
   "metadata": {
    "collapsed": true
   },
   "outputs": [],
   "source": [
    "%matplotlib inline\n",
    "import matplotlib.pyplot as plt"
   ]
  },
  {
   "cell_type": "code",
   "execution_count": null,
   "metadata": {
    "collapsed": true
   },
   "outputs": [],
   "source": [
    "# create arrays for plotting inputs\n",
    "mean = ingr_df['mean_proportion'].as_matrix()\n",
    "stddev = ingr_df['stddev_proportion'].as_matrix()\n",
    "counts = ingr_df['counts'].as_matrix()\n",
    "samples = len(ingr_df)"
   ]
  },
  {
   "cell_type": "code",
   "execution_count": 10,
   "metadata": {
    "collapsed": false
   },
   "outputs": [
    {
     "data": {
      "text/plain": [
       "<matplotlib.text.Text at 0x7fa4e723e350>"
      ]
     },
     "execution_count": 10,
     "metadata": {},
     "output_type": "execute_result"
    },
    {
     "data": {
      "image/png": "[encoded data removed]",
      "text/plain": [
       "<matplotlib.figure.Figure at 0x7fa4e7306490>"
      ]
     },
     "metadata": {},
     "output_type": "display_data"
    }
   ],
   "source": [
    "# first plot 2D distributions\n",
    "plt.figure(1)\n",
    "plt.subplot(211)\n",
    "plt.scatter(mean,stddev,s=samples)\n",
    "plt.ylabel('StdDev of Proportion')\n",
    "\n",
    "plt.subplot(212)\n",
    "plt.scatter(mean,counts,s=samples)\n",
    "plt.ylabel('Ingredient Occurances')\n",
    "plt.xlabel('Mean Proportion')"
   ]
  },
  {
   "cell_type": "code",
   "execution_count": 15,
   "metadata": {
    "collapsed": false
   },
   "outputs": [
    {
     "data": {
      "image/png": "[encoded data removed]",
      "text/plain": [
       "<matplotlib.figure.Figure at 0x7fa4e7193f90>"
      ]
     },
     "metadata": {},
     "output_type": "display_data"
    }
   ],
   "source": [
    "# Now generate interactive 3D plot with all features\n",
    "from mpl_toolkits import mplot3d\n",
    "from IPython.html.widgets import interact\n",
    "\n",
    "def plot_3D(elev=30, azim=30):\n",
    "    ax = plt.subplot(projection='3d')\n",
    "    ax.scatter3D(mean, stddev, counts, s=samples)\n",
    "    ax.view_init(elev=elev, azim=azim)\n",
    "    ax.set_xlabel('mean')\n",
    "    ax.set_ylabel('stddev')\n",
    "    ax.set_zlabel('counts')\n",
    "    \n",
    "interact(plot_3D, elev=[-90, 90], azip=(-180, 180));"
   ]
  },
  {
   "cell_type": "markdown",
   "metadata": {},
   "source": [
    "#Initial Thoughts:\n",
    "I was thinking that that there might be more clear clusters of ingredients. My thinking was specifically in regard to porportion: If you think about, say, garbanzo beans and black beans in normal and black bean hummus respectively. You would expect them to have a porportion of their recipe. Nievely extrapolating this thinking, I figured you might be able to define clusters of ingredients that would result in a certain \"type\" of ingredient in a recipe and then use these clusters to select ingredients.\n",
    "\n",
    "As I said though, it seems like there aren't quite as many separate distinct clusters as I expected. Especially when you look in the 3 dimensional space.\n",
    "\n",
    "Never the less, I'll try just plugging the data in to a clustering algorithm."
   ]
  },
  {
   "cell_type": "markdown",
   "metadata": {},
   "source": [
    "#Apply Clustering to the Data\n",
    "I chose the MeanShift algorithm which doesn't require a known number of clusters (but will determine this on it's own) and seems adequite for our relatively small dataset."
   ]
  },
  {
   "cell_type": "code",
   "execution_count": 49,
   "metadata": {
    "collapsed": false
   },
   "outputs": [],
   "source": [
    "from sklearn.cluster import MeanShift, estimate_bandwidth\n",
    "\n",
    "X = ingr_df.as_matrix(['mean_proportion','stddev_proportion','counts'])\n",
    "# turn all Nan's in to 0 (there are some in the stddev column)\n",
    "X[np.invert(np.isfinite(X))] = 0\n",
    "\n",
    "# automatically calculate bandwith for input to meanshift model\n",
    "bandwidth = estimate_bandwidth(X, quantile=0.2, n_samples=samples)\n",
    "\n",
    "# create and run model\n",
    "ms = MeanShift(bandwidth=bandwidth, bin_seeding=True)\n",
    "ms.fit(X)\n",
    "\n",
    "# get results\n",
    "labels = ms.labels_\n",
    "cluster_centers = ms.cluster_centers_\n",
    "\n",
    "labels_unique = np.unique(labels)\n",
    "n_clusters_ = len(labels_unique)\n"
   ]
  },
  {
   "cell_type": "code",
   "execution_count": 51,
   "metadata": {
    "collapsed": false
   },
   "outputs": [
    {
     "name": "stdout",
     "output_type": "stream",
     "text": [
      "number of estimated labels : 9\n",
      "Label 0 was assigned to 112 ingredients and has center:\n",
      "   mean:0.115295 stddev:0.035751 count:1.859813\n",
      "   It includes the following ingredients:\n",
      "      4 Italian dressing\n",
      "      2 allspice\n",
      "      1 apple sauce\n",
      "      2 apples\n",
      "      3 artichoke hearts\n",
      "      1 arugula\n",
      "      3 avocado\n",
      "      1 bacon\n",
      "      1 baking soda\n",
      "      3 balsamic vinegar\n",
      "      2 banana peppers\n",
      "      1 bay leaf\n",
      "      1 beets\n",
      "      8 black beans\n",
      "      6 bread\n",
      "      1 broccoli\n",
      "      1 broth\n",
      "      1 brown sugar\n",
      "      1 butter\n",
      "      1 cabbage\n",
      "      2 canola oil\n",
      "      1 cashews\n",
      "      1 celery seed\n",
      "      1 cheddar cheese\n",
      "      2 chicken breast\n",
      "      2 chili powder\n",
      "      1 chipotle pepper\n",
      "      8 cilantro\n",
      "      2 cinnamon\n",
      "      1 coconut\n",
      "      1 cocounut oil\n",
      "      1 coleslaw\n",
      "      3 coriander\n",
      "      2 corn\n",
      "      2 cottage cheese\n",
      "      2 cream cheese\n",
      "      2 crushed red pepper\n",
      "      4 cucumber\n",
      "      1 curry paste\n",
      "      3 curry powder\n",
      "      1 dijon mustard\n",
      "      1 dill\n",
      "      1 egg\n",
      "      1 eggplant\n",
      "      1 fennel seed\n",
      "      7 feta cheese\n",
      "      1 flatbread\n",
      "      1 flax seed\n",
      "      2 flour\n",
      "      2 ginger\n",
      "      1 green olives\n",
      "      2 ground beef\n",
      "      1 ground lamb\n",
      "      1 hard-boiled egg\n",
      "      1 honey\n",
      "      3 hot sauce\n",
      "      1 kalamata olives\n",
      "      1 lemon grass\n",
      "      2 lemon pepper\n",
      "      4 lemon zest\n",
      "      3 lettuce\n",
      "      4 lime juice\n",
      "      2 manzanilla olives\n",
      "      2 maple syrup\n",
      "      1 marjoram\n",
      "      1 mayonnaise\n",
      "      2 milk\n",
      "      1 monterey jack cheese\n",
      "      2 mozzarella cheese\n",
      "      1 nutmeg\n",
      "      1 oatmeal\n",
      "      3 olives\n",
      "      2 onion powder\n",
      "      1 orange juice\n",
      "      8 oregano\n",
      "      2 parmesan cheese\n",
      "      3 peanut butter\n",
      "      2 pine nuts\n",
      "      1 pizza crust\n",
      "      1 portabello mushroom\n",
      "      1 prosciutto\n",
      "      4 pumpkin\n",
      "      1 raisins\n",
      "      1 ranch\n",
      "      2 red onion\n",
      "      2 red wine vinegar\n",
      "      5 rosemary\n",
      "      1 sage\n",
      "      1 sandwich wrap\n",
      "      2 serrano peppers\n",
      "      4 sesame seed oil\n",
      "      6 sesame seeds\n",
      "      3 soy sauce\n",
      "      2 soybeans\n",
      "      2 spinach\n",
      "      4 sun-dried tomatoes\n",
      "      2 sweet chili sauce\n",
      "      3 sweet potato\n",
      "      1 tamari\n",
      "      1 thyme\n",
      "      2 tofu\n",
      "      7 tomato\n",
      "      1 tortilla\n",
      "      1 vanilla extract\n",
      "      1 walnuts\n",
      "      1 wasabi\n",
      "      2 white beans\n",
      "      2 white pepper\n",
      "      1 white sugar\n",
      "      1 yeast\n",
      "      4 yogurt\n",
      "      2 zucchini\n",
      "\n",
      "Label 1 was assigned to 8 ingredients and has center:\n",
      "   mean:0.071650 stddev:0.050156 count:14.375000\n",
      "   It includes the following ingredients:\n",
      "      15 basil\n",
      "      14 bell pepper\n",
      "      16 cayenne pepper\n",
      "      13 hummus\n",
      "      12 jalapeno\n",
      "      15 onion\n",
      "      17 paprika\n",
      "      13 parsley\n",
      "\n",
      "Label 2 was assigned to 2 ingredients and has center:\n",
      "   mean:0.060048 stddev:0.051158 count:68.000000\n",
      "   It includes the following ingredients:\n",
      "      67 lemon juice\n",
      "      69 olive oil\n",
      "\n",
      "Label 3 was assigned to 2 ingredients and has center:\n",
      "   mean:0.069958 stddev:0.091910 count:25.000000\n",
      "   It includes the following ingredients:\n",
      "      28 black pepper\n",
      "      22 water\n",
      "\n",
      "Label 4 was assigned to 1 ingredients and has center:\n",
      "   mean:0.003360 stddev:0.003073 count:37.000000\n",
      "   It includes the following ingredients:\n",
      "      37 cumin\n",
      "\n",
      "Label 5 was assigned to 1 ingredients and has center:\n",
      "   mean:0.004098 stddev:0.003616 count:58.000000\n",
      "   It includes the following ingredients:\n",
      "      58 salt\n",
      "\n",
      "Label 6 was assigned to 1 ingredients and has center:\n",
      "   mean:0.082664 stddev:0.065108 count:49.000000\n",
      "   It includes the following ingredients:\n",
      "      49 tahini\n",
      "\n",
      "Label 7 was assigned to 1 ingredients and has center:\n",
      "   mean:0.598739 stddev:0.186017 count:76.000000\n",
      "   It includes the following ingredients:\n",
      "      76 garbonzo beans\n",
      "\n",
      "Label 8 was assigned to 1 ingredients and has center:\n",
      "   mean:0.010577 stddev:0.007612 count:82.000000\n",
      "   It includes the following ingredients:\n",
      "      82 garlic\n",
      "\n"
     ]
    }
   ],
   "source": [
    "# Print meanshift results\n",
    "print(\"number of estimated labels : %d\" % n_clusters_)\n",
    "\n",
    "for i in range(n_clusters_):\n",
    "    print 'Label %d was assigned to %d ingredients and has center:'%(i,len(labels[labels==i]))\n",
    "    print '   mean:%f stddev:%f count:%f'%(cluster_centers[i,0],cluster_centers[i,1],cluster_centers[i,2])\n",
    "    print '   It includes the following ingredients:'\n",
    "    for index in np.where(labels==i)[0]:\n",
    "        print '      %d %s'%(ingr_df['counts'][index],ingr_df['new_description'][index])\n",
    "    print"
   ]
  },
  {
   "cell_type": "markdown",
   "metadata": {},
   "source": [
    "#Conclusion:\n",
    "The clusters were not quite what I expected, but they seem compelling none the less. It seems that the resulting clusters were mostly driven by what I deem the most common and important ingredients. But the lower label numbers are interesting. It seems that label 0 clustered the most exotic and least used ingredients. And label 1 has some borderline ingredients: things that are solid optional ingredients (possibly good for making some recipe variants?). Then as far as I can tell labels 2-8 are essential core ingredients.\n",
    "\n",
    "So while I expected to cluster similar types of ingredients, then choose the top \"best\" or most common ingredients from each type, instead the clusters seem to have effectively done the ingredient choosing for us. As described, I think a reasonable first pass for chosing ingredients would be to use labels 2-8 as an ingredient base and use label 1 for optional variants then discard label 0 ingredients."
   ]
  },
  {
   "cell_type": "markdown",
   "metadata": {},
   "source": [
    "#To Do:\n",
    "I would still like to try a few variations of the clustering input. Instead of the 3 dimensions used as input, I'd like to compare the results using only mean_proportion and counts\n",
    "\n",
    "Also, I didn't push any of these results to the database or any separate file yet. Still have to do that."
   ]
  }
 ],
 "metadata": {
  "kernelspec": {
   "display_name": "Python 2",
   "language": "python",
   "name": "python2"
  },
  "language_info": {
   "codemirror_mode": {
    "name": "ipython",
    "version": 2
   },
   "file_extension": ".py",
   "mimetype": "text/x-python",
   "name": "python",
   "nbconvert_exporter": "python",
   "pygments_lexer": "ipython2",
   "version": "2.7.6"
  }
 },
 "nbformat": 4,
 "nbformat_minor": 0
}
