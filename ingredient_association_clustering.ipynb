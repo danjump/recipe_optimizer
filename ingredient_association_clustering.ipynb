{
 "cells": [
  {
   "cell_type": "code",
   "execution_count": 2,
   "metadata": {
    "collapsed": true
   },
   "outputs": [],
   "source": [
    "import numpy as np\n",
    "import pandas as pd\n",
    "import sqlite3 as sl3"
   ]
  },
  {
   "cell_type": "markdown",
   "metadata": {},
   "source": [
    "#Load Data From Database"
   ]
  },
  {
   "cell_type": "code",
   "execution_count": 3,
   "metadata": {
    "collapsed": true
   },
   "outputs": [],
   "source": [
    "dbfile = \"recipes.db\"\n",
    "conn = sl3.connect(dbfile)\n",
    "cur = conn.cursor()"
   ]
  },
  {
   "cell_type": "code",
   "execution_count": 4,
   "metadata": {
    "collapsed": true
   },
   "outputs": [],
   "source": [
    "# Read in 'ingredients' table\n",
    "query = \"SELECT new_description, recipe_id FROM new_ingredients\"\n",
    "all_ingr_df = pd.read_sql(query, conn)"
   ]
  },
  {
   "cell_type": "markdown",
   "metadata": {},
   "source": [
    "#Calculate Distance Matrix\n",
    "Construct a matrix of jaccard distance between each unique ingredient. The distance is based on the similarities/differences of the list of recipes containing each ingredient (i.e. the more recipes that share two ingredients, and the fewer recipes unique to only one of the two, the lower the jaccard distance between the them). \n",
    "\n",
    "This matrix will be input to our clustering algorithm."
   ]
  },
  {
   "cell_type": "code",
   "execution_count": 6,
   "metadata": {
    "collapsed": false
   },
   "outputs": [],
   "source": [
    "# for each unique ingredient, generate a list of recipes containing that ingredient\n",
    "recipes_list = list()\n",
    "for ingredient in all_ingr_df['new_description'].unique():\n",
    "    recipes_list.append(all_ingr_df[all_ingr_df['new_description']==ingredient])\n"
   ]
  },
  {
   "cell_type": "code",
   "execution_count": 7,
   "metadata": {
    "collapsed": true
   },
   "outputs": [],
   "source": [
    "def get_jaccard_distance(list1, list2):\n",
    "    \"\"\"Calculates jaccard distance between two recipe lists\n",
    "    this serves as a score of how associated two ingredients are;\n",
    "    how many recipies are they an ingredient of in common or in contrast\n",
    "    input: 2 lists of recipe_id's for recipes containing each of two ingredients\n",
    "    output: a float score of jaccard distance\"\"\"\n",
    "    if len(list1) > len(list2):\n",
    "        temp = list1\n",
    "        list1 = list2\n",
    "        list2 = temp\n",
    "    \n",
    "    in_both_count = 0\n",
    "    \n",
    "    # loop over every entry in the shorter list and count how\n",
    "    # many of the recipes are shared between the two\n",
    "    for recipe_id in list1.recipe_id:\n",
    "        if len(list2[list2['recipe_id']==recipe_id]) > 0:\n",
    "            in_both_count += 1\n",
    "        \n",
    "    jaccard_similarity = 1.0*in_both_count / (len(list1) + len(list2) - in_both_count)\n",
    "    jaccard_distance = 1.0-jaccard_similarity\n",
    "    \n",
    "    return jaccard_distance\n",
    "        "
   ]
  },
  {
   "cell_type": "code",
   "execution_count": 8,
   "metadata": {
    "collapsed": false
   },
   "outputs": [],
   "source": [
    "#construct the distance matrix\n",
    "\n",
    "distance_matrix = [[0 for x in range(len(recipes_list))] for x in range(len(recipes_list))]\n",
    "\n",
    "# loop over every combination of 2 ingredients and calculate\n",
    "# the jaccard_distance between their recipe_lists\n",
    "for i in range(len(recipes_list)):\n",
    "    for j in range(i+1,len(recipes_list)):\n",
    "        jaccard_distance = get_jaccard_distance(recipes_list[i],recipes_list[j])\n",
    "        distance_matrix[i][j] = jaccard_distance\n",
    "        distance_matrix[j][i] = jaccard_distance\n"
   ]
  },
  {
   "cell_type": "code",
   "execution_count": 12,
   "metadata": {
    "collapsed": false
   },
   "outputs": [
    {
     "data": {
      "text/plain": [
       "(129, 129)"
      ]
     },
     "execution_count": 12,
     "metadata": {},
     "output_type": "execute_result"
    }
   ],
   "source": [
    "np.shape(distance_matrix)"
   ]
  },
  {
   "cell_type": "markdown",
   "metadata": {},
   "source": [
    "# Clustering(mean_proportion, stddev_proportion, norm_counts)"
   ]
  },
  {
   "cell_type": "code",
   "execution_count": 1,
   "metadata": {
    "collapsed": true
   },
   "outputs": [],
   "source": [
    "from sklearn.cluster import AffinityPropagation"
   ]
  },
  {
   "cell_type": "code",
   "execution_count": 14,
   "metadata": {
    "collapsed": false
   },
   "outputs": [
    {
     "name": "stdout",
     "output_type": "stream",
     "text": [
      "[17 12 12  0 20 16 24 19  1  9  9 12  2  5 22  4  4  5  4 19  3  3  4  8 15\n",
      " 21  4  3 13  3  7  4 10 14  6 19  9 21  0 16 13  4  2 11  0 16 18  1  0  5\n",
      " 21  0 12 20 13  5 18  6 18  7  8  9 24  7  5  2  4 10 11 12 24  9  8 12  2\n",
      "  7 17  3 13  7 20 10 19  7 11 23  9 14 15 16  3  0  0 12  8  3  0 17 18 21\n",
      " 14 12 22 22 21  9  5 11 19 14 18 20  7 17 10  2  0 21 17 21 16 22  0 23 24\n",
      "  4 19 16 20]\n"
     ]
    }
   ],
   "source": [
    "af = AffinityPropagation(affinity='precomputed')\n",
    "af.fit(distance_matrix)"
   ]
  },
  {
   "cell_type": "code",
   "execution_count": 24,
   "metadata": {
    "collapsed": false
   },
   "outputs": [
    {
     "name": "stdout",
     "output_type": "stream",
     "text": [
      "25 Estimated clusters\n",
      "Cluster 0 - count:10 - ingredients:\n",
      "   apples\n",
      "   cottage cheese\n",
      "   banana peppers\n",
      "   lemon zest\n",
      "   olives\n",
      "   flour\n",
      "   egg\n",
      "   curry paste\n",
      "   red wine vinegar\n",
      "   fennel seed\n",
      "Cluster 1 - count:2 - ingredients:\n",
      "   garlic\n",
      "   sweet potato\n",
      "Cluster 2 - count:5 - ingredients:\n",
      "   paprika\n",
      "   apple sauce\n",
      "   maple syrup\n",
      "   kalamata olives\n",
      "   bay leaf\n",
      "Cluster 3 - count:7 - ingredients:\n",
      "   hot sauce\n",
      "   artichoke hearts\n",
      "   cream cheese\n",
      "   manzanilla olives\n",
      "   onion powder\n",
      "   chili powder\n",
      "   cocounut oil\n",
      "Cluster 4 - count:9 - ingredients:\n",
      "   tahini\n",
      "   black beans\n",
      "   water\n",
      "   basil\n",
      "   portabello mushroom\n",
      "   rosemary\n",
      "   brown sugar\n",
      "   cinnamon\n",
      "   honey\n",
      "Cluster 5 - count:6 - ingredients:\n",
      "   green olives\n",
      "   pumpkin\n",
      "   white pepper\n",
      "   sesame seed oil\n",
      "   beets\n",
      "   cabbage\n",
      "Cluster 6 - count:2 - ingredients:\n",
      "   balsamic vinegar\n",
      "   oregano\n",
      "Cluster 7 - count:7 - ingredients:\n",
      "   sesame seeds\n",
      "   cucumber\n",
      "   zucchini\n",
      "   sweet chili sauce\n",
      "   thyme\n",
      "   ground beef\n",
      "   ranch\n",
      "Cluster 8 - count:4 - ingredients:\n",
      "   parsley\n",
      "   serrano peppers\n",
      "   canola oil\n",
      "   milk\n",
      "Cluster 9 - count:7 - ingredients:\n",
      "   tofu\n",
      "   salt\n",
      "   jalapeno\n",
      "   Italian dressing\n",
      "   flax seed\n",
      "   broccoli\n",
      "   chipotle pepper\n",
      "Cluster 10 - count:4 - ingredients:\n",
      "   avocado\n",
      "   raisins\n",
      "   ground lamb\n",
      "   soybeans\n",
      "Cluster 11 - count:4 - ingredients:\n",
      "   bacon\n",
      "   vanilla extract\n",
      "   yogurt\n",
      "   coleslaw\n",
      "Cluster 12 - count:8 - ingredients:\n",
      "   hummus\n",
      "   bread\n",
      "   cumin\n",
      "   red onion\n",
      "   oatmeal\n",
      "   dill\n",
      "   lemon grass\n",
      "   tortilla\n",
      "Cluster 13 - count:4 - ingredients:\n",
      "   cilantro\n",
      "   flatbread\n",
      "   tamari\n",
      "   corn\n",
      "Cluster 14 - count:4 - ingredients:\n",
      "   lime juice\n",
      "   pizza crust\n",
      "   mozzarella cheese\n",
      "   mayonnaise\n",
      "Cluster 15 - count:2 - ingredients:\n",
      "   lemon pepper\n",
      "   monterey jack cheese\n",
      "Cluster 16 - count:6 - ingredients:\n",
      "   olive oil\n",
      "   onion\n",
      "   chicken breast\n",
      "   crushed red pepper\n",
      "   sage\n",
      "   nutmeg\n",
      "Cluster 17 - count:5 - ingredients:\n",
      "   cheddar cheese\n",
      "   cashews\n",
      "   arugula\n",
      "   broth\n",
      "   parmesan cheese\n",
      "Cluster 18 - count:5 - ingredients:\n",
      "   sun-dried tomatoes\n",
      "   baking soda\n",
      "   feta cheese\n",
      "   sandwich wrap\n",
      "   hard-boiled egg\n",
      "Cluster 19 - count:6 - ingredients:\n",
      "   lemon juice\n",
      "   curry powder\n",
      "   black pepper\n",
      "   lettuce\n",
      "   dijon mustard\n",
      "   walnuts\n",
      "Cluster 20 - count:5 - ingredients:\n",
      "   garbonzo beans\n",
      "   ginger\n",
      "   marjoram\n",
      "   celery seed\n",
      "   allspice\n",
      "Cluster 21 - count:7 - ingredients:\n",
      "   bell pepper\n",
      "   white beans\n",
      "   coriander\n",
      "   spinach\n",
      "   wasabi\n",
      "   white sugar\n",
      "   butter\n",
      "Cluster 22 - count:4 - ingredients:\n",
      "   cayenne pepper\n",
      "   prosciutto\n",
      "   soy sauce\n",
      "   orange juice\n",
      "Cluster 23 - count:2 - ingredients:\n",
      "   eggplant\n",
      "   yeast\n",
      "Cluster 24 - count:4 - ingredients:\n",
      "   peanut butter\n",
      "   tomato\n",
      "   coconut\n",
      "   pine nuts\n"
     ]
    }
   ],
   "source": [
    "labels = af.labels_\n",
    "labels_unique = np.unique(labels)\n",
    "n_clusters = len(labels_unique)\n",
    "print n_clusters, 'Estimated clusters'\n",
    "\n",
    "for i in range(len(labels_unique)):\n",
    "    print 'Cluster %d - count:%d - ingredients:'%(i,len(labels[labels==i]))\n",
    "    for index in np.where(labels==i)[0]:\n",
    "        print '   %s'%all_ingr_df['new_description'].unique()[index]"
   ]
  }
 ],
 "metadata": {
  "kernelspec": {
   "display_name": "Python 2",
   "language": "python",
   "name": "python2"
  },
  "language_info": {
   "codemirror_mode": {
    "name": "ipython",
    "version": 2
   },
   "file_extension": ".py",
   "mimetype": "text/x-python",
   "name": "python",
   "nbconvert_exporter": "python",
   "pygments_lexer": "ipython2",
   "version": "2.7.6"
  }
 },
 "nbformat": 4,
 "nbformat_minor": 0
}
