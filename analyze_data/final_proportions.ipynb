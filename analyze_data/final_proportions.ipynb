{
 "cells": [
  {
   "cell_type": "code",
   "execution_count": 2,
   "metadata": {
    "collapsed": true
   },
   "outputs": [],
   "source": [
    "import numpy as np\n",
    "import pandas as pd\n",
    "import sqlite3 as sl3"
   ]
  },
  {
   "cell_type": "markdown",
   "metadata": {},
   "source": [
    "#Load Data From Database"
   ]
  },
  {
   "cell_type": "code",
   "execution_count": 3,
   "metadata": {
    "collapsed": false
   },
   "outputs": [],
   "source": [
    "dbfile = \"../recipes.db\"\n",
    "conn = sl3.connect(dbfile)\n",
    "cur = conn.cursor()"
   ]
  },
  {
   "cell_type": "code",
   "execution_count": 4,
   "metadata": {
    "collapsed": false
   },
   "outputs": [
    {
     "name": "stdout",
     "output_type": "stream",
     "text": [
      "100 entries\n"
     ]
    },
    {
     "data": {
      "text/html": [
       "<div style=\"max-height:1000px;max-width:1500px;overflow:auto;\">\n",
       "<table border=\"1\" class=\"dataframe\">\n",
       "  <thead>\n",
       "    <tr style=\"text-align: right;\">\n",
       "      <th></th>\n",
       "      <th>recipe_id</th>\n",
       "      <th>average_rating</th>\n",
       "      <th>number_ratings</th>\n",
       "    </tr>\n",
       "  </thead>\n",
       "  <tbody>\n",
       "    <tr>\n",
       "      <th>39</th>\n",
       "      <td> 39</td>\n",
       "      <td> 5.000000</td>\n",
       "      <td>  1</td>\n",
       "    </tr>\n",
       "    <tr>\n",
       "      <th>85</th>\n",
       "      <td> 85</td>\n",
       "      <td> 5.000000</td>\n",
       "      <td>  1</td>\n",
       "    </tr>\n",
       "    <tr>\n",
       "      <th>47</th>\n",
       "      <td> 47</td>\n",
       "      <td> 5.000000</td>\n",
       "      <td>  1</td>\n",
       "    </tr>\n",
       "    <tr>\n",
       "      <th>51</th>\n",
       "      <td> 51</td>\n",
       "      <td> 5.000000</td>\n",
       "      <td>  2</td>\n",
       "    </tr>\n",
       "    <tr>\n",
       "      <th>7 </th>\n",
       "      <td>  7</td>\n",
       "      <td> 5.000000</td>\n",
       "      <td>  4</td>\n",
       "    </tr>\n",
       "    <tr>\n",
       "      <th>31</th>\n",
       "      <td> 31</td>\n",
       "      <td> 5.000000</td>\n",
       "      <td>  3</td>\n",
       "    </tr>\n",
       "    <tr>\n",
       "      <th>63</th>\n",
       "      <td> 63</td>\n",
       "      <td> 5.000000</td>\n",
       "      <td>  1</td>\n",
       "    </tr>\n",
       "    <tr>\n",
       "      <th>64</th>\n",
       "      <td> 64</td>\n",
       "      <td> 5.000000</td>\n",
       "      <td>  1</td>\n",
       "    </tr>\n",
       "    <tr>\n",
       "      <th>68</th>\n",
       "      <td> 68</td>\n",
       "      <td> 4.909091</td>\n",
       "      <td> 11</td>\n",
       "    </tr>\n",
       "    <tr>\n",
       "      <th>46</th>\n",
       "      <td> 46</td>\n",
       "      <td> 4.900000</td>\n",
       "      <td> 10</td>\n",
       "    </tr>\n",
       "  </tbody>\n",
       "</table>\n",
       "<p>10 rows × 3 columns</p>\n",
       "</div>"
      ],
      "text/plain": [
       "    recipe_id  average_rating  number_ratings\n",
       "39         39        5.000000               1\n",
       "85         85        5.000000               1\n",
       "47         47        5.000000               1\n",
       "51         51        5.000000               2\n",
       "7           7        5.000000               4\n",
       "31         31        5.000000               3\n",
       "63         63        5.000000               1\n",
       "64         64        5.000000               1\n",
       "68         68        4.909091              11\n",
       "46         46        4.900000              10\n",
       "\n",
       "[10 rows x 3 columns]"
      ]
     },
     "execution_count": 4,
     "metadata": {},
     "output_type": "execute_result"
    }
   ],
   "source": [
    "# First get the full data_frame including count_cluster\n",
    "query = \"SELECT recipe_id, average_rating, number_ratings FROM recipes\"\n",
    "recipe_df = pd.read_sql(query, conn)\n",
    "\n",
    "#ingr_df.set_index(['new_description'],inplace=True)\n",
    "\n",
    "# Take a look at the data:\n",
    "print len(recipe_df), 'entries'\n",
    "recipe_df.sort(['average_rating'],ascending=[0]).head(10)\n"
   ]
  },
  {
   "cell_type": "code",
   "execution_count": 5,
   "metadata": {
    "collapsed": false
   },
   "outputs": [
    {
     "name": "stdout",
     "output_type": "stream",
     "text": [
      "840 entries\n",
      "    recipe_id new_description  proportion\n",
      "55          7           water    0.118779\n",
      "56          7  garbonzo beans    0.481131\n",
      "57          7            salt    0.009021\n",
      "58          7           cumin    0.003157\n",
      "59          7          tahini    0.238561\n",
      "60          7     lemon juice    0.122287\n",
      "61          7          garlic    0.012028\n",
      "62          7         parsley    0.015035\n",
      "\n",
      "[8 rows x 3 columns]\n"
     ]
    }
   ],
   "source": [
    "# First get the full data_frame including count_cluster\n",
    "query = \"SELECT recipe_id, new_description, proportion FROM new_ingredients\"\n",
    "new_ingr_df = pd.read_sql(query, conn)\n",
    "\n",
    "#ingr_df.set_index(['new_description'],inplace=True)\n",
    "\n",
    "# Take a look at the data:\n",
    "print len(new_ingr_df), 'entries'\n",
    "print new_ingr_df[new_ingr_df['recipe_id']==7]\n"
   ]
  },
  {
   "cell_type": "code",
   "execution_count": 6,
   "metadata": {
    "collapsed": false
   },
   "outputs": [
    {
     "name": "stdout",
     "output_type": "stream",
     "text": [
      "129 entries\n"
     ]
    },
    {
     "data": {
      "text/html": [
       "<div style=\"max-height:1000px;max-width:1500px;overflow:auto;\">\n",
       "<table border=\"1\" class=\"dataframe\">\n",
       "  <thead>\n",
       "    <tr style=\"text-align: right;\">\n",
       "      <th></th>\n",
       "      <th>new_description</th>\n",
       "      <th>mean_proportion</th>\n",
       "      <th>stddev_proportion</th>\n",
       "      <th>counts</th>\n",
       "      <th>norm_counts</th>\n",
       "      <th>count_cluster</th>\n",
       "      <th>similarity_cluster</th>\n",
       "      <th>dissimilarity_cluster</th>\n",
       "      <th>final_selection</th>\n",
       "    </tr>\n",
       "  </thead>\n",
       "  <tbody>\n",
       "    <tr>\n",
       "      <th>55 </th>\n",
       "      <td>         garlic</td>\n",
       "      <td> 0.010577</td>\n",
       "      <td> 0.007612</td>\n",
       "      <td> 82</td>\n",
       "      <td> 1.000000</td>\n",
       "      <td> 2</td>\n",
       "      <td> 1</td>\n",
       "      <td>  1</td>\n",
       "      <td> 1</td>\n",
       "    </tr>\n",
       "    <tr>\n",
       "      <th>54 </th>\n",
       "      <td> garbonzo beans</td>\n",
       "      <td> 0.598739</td>\n",
       "      <td> 0.186017</td>\n",
       "      <td> 76</td>\n",
       "      <td> 0.926829</td>\n",
       "      <td> 2</td>\n",
       "      <td> 1</td>\n",
       "      <td> 20</td>\n",
       "      <td> 1</td>\n",
       "    </tr>\n",
       "    <tr>\n",
       "      <th>81 </th>\n",
       "      <td>      olive oil</td>\n",
       "      <td> 0.043827</td>\n",
       "      <td> 0.046208</td>\n",
       "      <td> 69</td>\n",
       "      <td> 0.841463</td>\n",
       "      <td> 3</td>\n",
       "      <td> 1</td>\n",
       "      <td> 16</td>\n",
       "      <td> 1</td>\n",
       "    </tr>\n",
       "    <tr>\n",
       "      <th>67 </th>\n",
       "      <td>    lemon juice</td>\n",
       "      <td> 0.076270</td>\n",
       "      <td> 0.056109</td>\n",
       "      <td> 67</td>\n",
       "      <td> 0.817073</td>\n",
       "      <td> 3</td>\n",
       "      <td> 1</td>\n",
       "      <td> 19</td>\n",
       "      <td> 1</td>\n",
       "    </tr>\n",
       "    <tr>\n",
       "      <th>102</th>\n",
       "      <td>           salt</td>\n",
       "      <td> 0.004098</td>\n",
       "      <td> 0.003616</td>\n",
       "      <td> 58</td>\n",
       "      <td> 0.707317</td>\n",
       "      <td> 4</td>\n",
       "      <td> 1</td>\n",
       "      <td>  9</td>\n",
       "      <td> 1</td>\n",
       "    </tr>\n",
       "  </tbody>\n",
       "</table>\n",
       "<p>5 rows × 9 columns</p>\n",
       "</div>"
      ],
      "text/plain": [
       "    new_description  mean_proportion  stddev_proportion  counts  norm_counts  \\\n",
       "55           garlic         0.010577           0.007612      82     1.000000   \n",
       "54   garbonzo beans         0.598739           0.186017      76     0.926829   \n",
       "81        olive oil         0.043827           0.046208      69     0.841463   \n",
       "67      lemon juice         0.076270           0.056109      67     0.817073   \n",
       "102            salt         0.004098           0.003616      58     0.707317   \n",
       "\n",
       "     count_cluster  similarity_cluster  dissimilarity_cluster  final_selection  \n",
       "55               2                   1                      1                1  \n",
       "54               2                   1                     20                1  \n",
       "81               3                   1                     16                1  \n",
       "67               3                   1                     19                1  \n",
       "102              4                   1                      9                1  \n",
       "\n",
       "[5 rows x 9 columns]"
      ]
     },
     "execution_count": 6,
     "metadata": {},
     "output_type": "execute_result"
    }
   ],
   "source": [
    "# First get the full data_frame including count_cluster\n",
    "query = \"SELECT new_description, mean_proportion, stddev_proportion, counts, norm_counts, count_cluster,\\\n",
    " similarity_cluster, dissimilarity_cluster, final_selection FROM base_ingredients\"\n",
    "base_ingr_df = pd.read_sql(query, conn)\n",
    "\n",
    "#ingr_df.set_index(['new_description'],inplace=True)\n",
    "\n",
    "# Take a look at the data:\n",
    "print len(base_ingr_df), 'entries'\n",
    "base_ingr_df.sort(['counts'],ascending=[0]).head()"
   ]
  },
  {
   "cell_type": "markdown",
   "metadata": {},
   "source": [
    "# Simple Mean Method:"
   ]
  },
  {
   "cell_type": "code",
   "execution_count": 7,
   "metadata": {
    "collapsed": true
   },
   "outputs": [],
   "source": [
    "def get_norm_grams(df,use_mean):\n",
    "    if use_mean:\n",
    "        name = 'mean_proportion'\n",
    "    else:\n",
    "        name = 'proportion'\n",
    "    prop_sum = df[name].sum(axis=1)\n",
    "    df['grams_in_1kg'] = df[name] / prop_sum * 1000\n",
    "    #df.drop([name],axis=1,inplace=True)\n",
    "    return df"
   ]
  },
  {
   "cell_type": "code",
   "execution_count": 9,
   "metadata": {
    "collapsed": false
   },
   "outputs": [
    {
     "name": "stdout",
     "output_type": "stream",
     "text": [
      "    new_description  mean_proportion  grams_in_1kg\n",
      "16     black pepper         0.001551      1.592264\n",
      "42            cumin         0.003360      3.449794\n",
      "54   garbonzo beans         0.598739    614.796299\n",
      "55           garlic         0.010577     10.860495\n",
      "67      lemon juice         0.076270     78.315327\n",
      "81        olive oil         0.043827     45.002192\n",
      "87          paprika         0.001801      1.849080\n",
      "89          parsley         0.012630     12.968670\n",
      "102            salt         0.004098      4.207560\n",
      "113          tahini         0.082664     84.881392\n",
      "122           water         0.138366    142.076926\n",
      "\n",
      "[11 rows x 3 columns]\n"
     ]
    }
   ],
   "source": [
    "simple_results = base_ingr_df[base_ingr_df['final_selection']==1][['new_description', 'mean_proportion']]\n",
    "\n",
    "simple_results = get_norm_grams(simple_results,1)\n",
    "\n",
    "print simple_results"
   ]
  },
  {
   "cell_type": "code",
   "execution_count": 14,
   "metadata": {
    "collapsed": true
   },
   "outputs": [],
   "source": [
    "%matplotlib inline\n",
    "from matplotlib import pyplot as plt\n",
    "import matplotlib"
   ]
  },
  {
   "cell_type": "code",
   "execution_count": 15,
   "metadata": {
    "collapsed": false
   },
   "outputs": [
    {
     "data": {
      "image/png": "[encoded data removed]",
      "text/plain": [
       "<matplotlib.figure.Figure at 0x7f2bdbfce410>"
      ]
     },
     "metadata": {},
     "output_type": "display_data"
    }
   ],
   "source": [
    "# The slices will be ordered and plotted counter-clockwise.\n",
    "labels = simple_results.sort(['grams_in_1kg'],axis=0)['new_description'].as_matrix()\n",
    "sizes = simple_results.sort(['grams_in_1kg'],axis=0)['grams_in_1kg'].as_matrix()\n",
    "colors = base_ingr_df[base_ingr_df['final_selection']==1]['mean_proportion'].as_matrix()*4\n",
    "\n",
    "my_norm = matplotlib.colors.Normalize(-1, 1) # maps your data to the range [0, 1]\n",
    "my_cmap = matplotlib.cm.get_cmap('prism')\n",
    "\n",
    "patches, texts = plt.pie(sizes, startangle=90,colors=my_cmap(colors))\n",
    "plt.legend(patches, labels.tolist(), loc=5, bbox_to_anchor=(1.3,.5))\n",
    "\n",
    "plt.axis('equal')\n",
    "plt.show()"
   ]
  },
  {
   "cell_type": "code",
   "execution_count": 10,
   "metadata": {
    "collapsed": false
   },
   "outputs": [
    {
     "name": "stdout",
     "output_type": "stream",
     "text": [
      "    new_description  mean_proportion  grams_in_1kg\n",
      "54   garbonzo beans         0.598739    614.796299\n",
      "122           water         0.138366    142.076926\n",
      "113          tahini         0.082664     84.881392\n",
      "67      lemon juice         0.076270     78.315327\n",
      "81        olive oil         0.043827     45.002192\n",
      "89          parsley         0.012630     12.968670\n",
      "55           garlic         0.010577     10.860495\n",
      "102            salt         0.004098      4.207560\n",
      "42            cumin         0.003360      3.449794\n",
      "87          paprika         0.001801      1.849080\n",
      "16     black pepper         0.001551      1.592264\n",
      "\n",
      "[11 rows x 3 columns]\n"
     ]
    }
   ],
   "source": [
    "\n",
    "print simple_results.sort(['grams_in_1kg'],ascending=[0])"
   ]
  },
  {
   "cell_type": "markdown",
   "metadata": {},
   "source": [
    "Actual Recipes for comparison:"
   ]
  },
  {
   "cell_type": "code",
   "execution_count": 12,
   "metadata": {
    "collapsed": false
   },
   "outputs": [
    {
     "name": "stdout",
     "output_type": "stream",
     "text": [
      "    recipe_id new_description  proportion  grams_in_1kg\n",
      "56          7  garbonzo beans    0.481131    481.130657\n",
      "59          7          tahini    0.238561    238.560617\n",
      "60          7     lemon juice    0.122287    122.287375\n",
      "55          7           water    0.118779    118.779131\n",
      "62          7         parsley    0.015035     15.035333\n",
      "61          7          garlic    0.012028     12.028266\n",
      "57          7            salt    0.009021      9.021200\n",
      "58          7           cumin    0.003157      3.157420\n",
      "\n",
      "[8 rows x 4 columns]\n",
      "     recipe_id new_description  proportion  grams_in_1kg\n",
      "375         46  garbonzo beans    0.623760    623.759675\n",
      "381         46      lime juice    0.137004    137.004357\n",
      "374         46       olive oil    0.122524    122.524222\n",
      "377         46          tahini    0.066831     66.831394\n",
      "373         46           water    0.032937     32.936739\n",
      "379         46          garlic    0.006683      6.683139\n",
      "378         46         paprika    0.005081      5.081042\n",
      "380         46  cayenne pepper    0.004010      4.009884\n",
      "376         46           cumin    0.001170      1.169549\n",
      "\n",
      "[9 rows x 4 columns]\n",
      "     recipe_id  new_description  proportion  grams_in_1kg\n",
      "242         31   garbonzo beans    0.716219    716.218921\n",
      "246         31      lemon juice    0.076986     76.985656\n",
      "238         31            water    0.075638     75.637834\n",
      "240         31  sesame seed oil    0.069576     69.575552\n",
      "239         31        olive oil    0.034532     34.531984\n",
      "243         31           garlic    0.015348     15.347548\n",
      "245         31             salt    0.007674      7.673774\n",
      "241         31            cumin    0.002686      2.685821\n",
      "244         31     black pepper    0.001343      1.342910\n",
      "\n",
      "[9 rows x 4 columns]\n"
     ]
    }
   ],
   "source": [
    "#I manually picked out some high rated recipes to look at their proportions for comparison\n",
    "\n",
    "print get_norm_grams(new_ingr_df[new_ingr_df['recipe_id']==7],0).sort(['grams_in_1kg'],ascending=[0])\n",
    "print get_norm_grams(new_ingr_df[new_ingr_df['recipe_id']==46],0).sort(['grams_in_1kg'],ascending=[0])\n",
    "print get_norm_grams(new_ingr_df[new_ingr_df['recipe_id']==31],0).sort(['grams_in_1kg'],ascending=[0])"
   ]
  },
  {
   "cell_type": "markdown",
   "metadata": {},
   "source": [
    "#Simple Mean Conclusion\n",
    "Based on a shallow comparison by eye with 3 highly rated recipes, the Simple Mean recipe seems reasonable. There are no obvious misbalances.\n",
    "\n",
    "Next we will take a weighted average of ingredient proportions weighted by a user rating score. \n",
    "\n",
    "The 3rd step will be calculating a jaccard similarity of the selected ingredient set with all input recipes and weighting the proportions both based on user ratings and similarity to the selected recipe."
   ]
  },
  {
   "cell_type": "markdown",
   "metadata": {},
   "source": [
    "#User Rating Weighted Average Method:"
   ]
  },
  {
   "cell_type": "code",
   "execution_count": null,
   "metadata": {
    "collapsed": true
   },
   "outputs": [],
   "source": []
  },
  {
   "cell_type": "markdown",
   "metadata": {},
   "source": [
    "#Similarity + User Rating Weighted Method:"
   ]
  },
  {
   "cell_type": "code",
   "execution_count": null,
   "metadata": {
    "collapsed": true
   },
   "outputs": [],
   "source": []
  }
 ],
 "metadata": {
  "kernelspec": {
   "display_name": "Python 2",
   "language": "python",
   "name": "python2"
  },
  "language_info": {
   "codemirror_mode": {
    "name": "ipython",
    "version": 2
   },
   "file_extension": ".py",
   "mimetype": "text/x-python",
   "name": "python",
   "nbconvert_exporter": "python",
   "pygments_lexer": "ipython2",
   "version": "2.7.6"
  }
 },
 "nbformat": 4,
 "nbformat_minor": 0
}
