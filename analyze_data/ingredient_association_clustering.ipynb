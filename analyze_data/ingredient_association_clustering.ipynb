{
 "cells": [
  {
   "cell_type": "code",
   "execution_count": 2,
   "metadata": {
    "collapsed": true
   },
   "outputs": [],
   "source": [
    "import numpy as np\n",
    "import pandas as pd\n",
    "import sqlite3 as sl3"
   ]
  },
  {
   "cell_type": "markdown",
   "metadata": {},
   "source": [
    "#Load Data From Database"
   ]
  },
  {
   "cell_type": "code",
   "execution_count": 3,
   "metadata": {
    "collapsed": true
   },
   "outputs": [],
   "source": [
    "dbfile = \"recipes.db\"\n",
    "conn = sl3.connect(dbfile)\n",
    "cur = conn.cursor()"
   ]
  },
  {
   "cell_type": "code",
   "execution_count": 4,
   "metadata": {
    "collapsed": true
   },
   "outputs": [],
   "source": [
    "# Read in 'ingredients' table\n",
    "query = \"SELECT new_description, recipe_id FROM new_ingredients\"\n",
    "all_ingr_df = pd.read_sql(query, conn)"
   ]
  },
  {
   "cell_type": "markdown",
   "metadata": {},
   "source": [
    "#Calculate Distance Matrix\n",
    "Construct a matrix of jaccard similarity between each unique ingredient. The similarity is based on the similarities/differences of the list of recipes containing each ingredient (i.e. the more recipes that share two ingredients, and the fewer recipes unique to only one of the two, the higher the jaccard similarity between the them). \n",
    "\n",
    "This matrix will be input to our clustering algorithm."
   ]
  },
  {
   "cell_type": "code",
   "execution_count": 30,
   "metadata": {
    "collapsed": false
   },
   "outputs": [],
   "source": [
    "# for each unique ingredient, generate a list of recipes containing that ingredient\n",
    "recipes_list = list()\n",
    "for ingredient in all_ingr_df['new_description'].unique():\n",
    "    recipes_list.append(all_ingr_df[all_ingr_df['new_description']==ingredient])\n"
   ]
  },
  {
   "cell_type": "code",
   "execution_count": 31,
   "metadata": {
    "collapsed": true
   },
   "outputs": [],
   "source": [
    "def get_jaccard_similarity(list1, list2):\n",
    "    \"\"\"Calculates jaccard distance between two recipe lists\n",
    "    this serves as a score of how associated two ingredients are;\n",
    "    how many recipies are they an ingredient of in common or in contrast\n",
    "    input: 2 lists of recipe_id's for recipes containing each of two ingredients\n",
    "    output: a float score of jaccard distance\"\"\"\n",
    "    if len(list1) > len(list2):\n",
    "        temp = list1\n",
    "        list1 = list2\n",
    "        list2 = temp\n",
    "    \n",
    "    in_both_count = 0\n",
    "    \n",
    "    # loop over every entry in the shorter list and count how\n",
    "    # many of the recipes are shared between the two\n",
    "    for recipe_id in list1.recipe_id:\n",
    "        if len(list2[list2['recipe_id']==recipe_id]) > 0:\n",
    "            in_both_count += 1\n",
    "        \n",
    "    jaccard_similarity = 1.0*in_both_count / (len(list1) + len(list2) - in_both_count)\n",
    "    #jaccard_distance = 1.0-jaccard_similarity\n",
    "    \n",
    "    return jaccard_similarity\n",
    "        "
   ]
  },
  {
   "cell_type": "code",
   "execution_count": 32,
   "metadata": {
    "collapsed": false
   },
   "outputs": [],
   "source": [
    "#construct the similarity matrix\n",
    "\n",
    "similarity_matrix = [[0 for x in range(len(recipes_list))] for x in range(len(recipes_list))]\n",
    "\n",
    "# loop over every combination of 2 ingredients and calculate\n",
    "# the jaccard_distance between their recipe_lists\n",
    "for i in range(len(recipes_list)):\n",
    "    for j in range(i+1,len(recipes_list)):\n",
    "        jaccard_similarity = get_jaccard_similarity(recipes_list[i],recipes_list[j])\n",
    "        similarity_matrix[i][j] = jaccard_similarity\n",
    "        similarity_matrix[j][i] = jaccard_similarity\n"
   ]
  },
  {
   "cell_type": "markdown",
   "metadata": {},
   "source": [
    "# Do clustering based on jaccard similarity"
   ]
  },
  {
   "cell_type": "code",
   "execution_count": 33,
   "metadata": {
    "collapsed": true
   },
   "outputs": [],
   "source": [
    "from sklearn.cluster import AffinityPropagation"
   ]
  },
  {
   "cell_type": "code",
   "execution_count": 34,
   "metadata": {
    "collapsed": false
   },
   "outputs": [
    {
     "data": {
      "text/plain": [
       "AffinityPropagation(affinity='precomputed', convergence_iter=15, copy=True,\n",
       "          damping=0.5, max_iter=200, preference=None, verbose=False)"
      ]
     },
     "execution_count": 34,
     "metadata": {},
     "output_type": "execute_result"
    }
   ],
   "source": [
    "af = AffinityPropagation(affinity='precomputed')\n",
    "af.fit(distance_matrix)"
   ]
  },
  {
   "cell_type": "code",
   "execution_count": 35,
   "metadata": {
    "collapsed": false
   },
   "outputs": [
    {
     "name": "stdout",
     "output_type": "stream",
     "text": [
      "25 Estimated clusters\n",
      "Cluster 0 - count:6 - ingredients:\n",
      "   cheddar cheese\n",
      "   bread\n",
      "   rosemary\n",
      "   onion\n",
      "   ranch\n",
      "   honey\n",
      "Cluster 1 - count:25 - ingredients:\n",
      "   garbonzo beans\n",
      "   olive oil\n",
      "   lemon juice\n",
      "   garlic\n",
      "   salt\n",
      "   cumin\n",
      "   paprika\n",
      "   tahini\n",
      "   water\n",
      "   basil\n",
      "   parsley\n",
      "   manzanilla olives\n",
      "   black pepper\n",
      "   white beans\n",
      "   red onion\n",
      "   baking soda\n",
      "   zucchini\n",
      "   beets\n",
      "   eggplant\n",
      "   egg\n",
      "   arugula\n",
      "   wasabi\n",
      "   chipotle pepper\n",
      "   hard-boiled egg\n",
      "   sage\n",
      "Cluster 2 - count:3 - ingredients:\n",
      "   green olives\n",
      "   black beans\n",
      "   yogurt\n",
      "Cluster 3 - count:3 - ingredients:\n",
      "   portabello mushroom\n",
      "   cream cheese\n",
      "   serrano peppers\n",
      "Cluster 4 - count:5 - ingredients:\n",
      "   cayenne pepper\n",
      "   cilantro\n",
      "   jalapeno\n",
      "   banana peppers\n",
      "   orange juice\n",
      "Cluster 5 - count:7 - ingredients:\n",
      "   pumpkin\n",
      "   balsamic vinegar\n",
      "   cottage cheese\n",
      "   flatbread\n",
      "   brown sugar\n",
      "   apple sauce\n",
      "   bacon\n",
      "Cluster 6 - count:4 - ingredients:\n",
      "   sweet potato\n",
      "   lemon zest\n",
      "   white pepper\n",
      "   coriander\n",
      "Cluster 7 - count:3 - ingredients:\n",
      "   tofu\n",
      "   ginger\n",
      "   tamari\n",
      "Cluster 8 - count:4 - ingredients:\n",
      "   bell pepper\n",
      "   sesame seeds\n",
      "   Italian dressing\n",
      "   walnuts\n",
      "Cluster 9 - count:7 - ingredients:\n",
      "   hummus\n",
      "   olives\n",
      "   oregano\n",
      "   feta cheese\n",
      "   cucumber\n",
      "   tomato\n",
      "   lettuce\n",
      "Cluster 10 - count:8 - ingredients:\n",
      "   apples\n",
      "   cinnamon\n",
      "   raisins\n",
      "   vanilla extract\n",
      "   oatmeal\n",
      "   coconut\n",
      "   flax seed\n",
      "   canola oil\n",
      "Cluster 11 - count:3 - ingredients:\n",
      "   dill\n",
      "   kalamata olives\n",
      "   sweet chili sauce\n",
      "Cluster 12 - count:3 - ingredients:\n",
      "   cashews\n",
      "   onion powder\n",
      "   corn\n",
      "Cluster 13 - count:5 - ingredients:\n",
      "   hot sauce\n",
      "   thyme\n",
      "   marjoram\n",
      "   ground lamb\n",
      "   ground beef\n",
      "Cluster 14 - count:3 - ingredients:\n",
      "   broccoli\n",
      "   pizza crust\n",
      "   monterey jack cheese\n",
      "Cluster 15 - count:2 - ingredients:\n",
      "   curry powder\n",
      "   crushed red pepper\n",
      "Cluster 16 - count:7 - ingredients:\n",
      "   peanut butter\n",
      "   lime juice\n",
      "   chili powder\n",
      "   lemon grass\n",
      "   milk\n",
      "   cocounut oil\n",
      "   curry paste\n",
      "Cluster 17 - count:3 - ingredients:\n",
      "   artichoke hearts\n",
      "   sandwich wrap\n",
      "   spinach\n",
      "Cluster 18 - count:5 - ingredients:\n",
      "   avocado\n",
      "   mozzarella cheese\n",
      "   tortilla\n",
      "   prosciutto\n",
      "   celery seed\n",
      "Cluster 19 - count:7 - ingredients:\n",
      "   lemon pepper\n",
      "   chicken breast\n",
      "   flour\n",
      "   cabbage\n",
      "   coleslaw\n",
      "   dijon mustard\n",
      "   mayonnaise\n",
      "Cluster 20 - count:4 - ingredients:\n",
      "   soy sauce\n",
      "   broth\n",
      "   soybeans\n",
      "   bay leaf\n",
      "Cluster 21 - count:3 - ingredients:\n",
      "   sesame seed oil\n",
      "   red wine vinegar\n",
      "   white sugar\n",
      "Cluster 22 - count:2 - ingredients:\n",
      "   parmesan cheese\n",
      "   butter\n",
      "Cluster 23 - count:4 - ingredients:\n",
      "   sun-dried tomatoes\n",
      "   maple syrup\n",
      "   fennel seed\n",
      "   yeast\n",
      "Cluster 24 - count:3 - ingredients:\n",
      "   pine nuts\n",
      "   nutmeg\n",
      "   allspice\n"
     ]
    }
   ],
   "source": [
    "labels = af.labels_\n",
    "labels_unique = np.unique(labels)\n",
    "n_clusters = len(labels_unique)\n",
    "print n_clusters, 'Estimated clusters'\n",
    "\n",
    "for i in range(len(labels_unique)):\n",
    "    print 'Cluster %d - count:%d - ingredients:'%(i,len(labels[labels==i]))\n",
    "    for index in np.where(labels==i)[0]:\n",
    "        print '   %s'%all_ingr_df['new_description'].unique()[index]"
   ]
  }
 ],
 "metadata": {
  "kernelspec": {
   "display_name": "Python 2",
   "language": "python",
   "name": "python2"
  },
  "language_info": {
   "codemirror_mode": {
    "name": "ipython",
    "version": 2
   },
   "file_extension": ".py",
   "mimetype": "text/x-python",
   "name": "python",
   "nbconvert_exporter": "python",
   "pygments_lexer": "ipython2",
   "version": "2.7.6"
  }
 },
 "nbformat": 4,
 "nbformat_minor": 0
}
